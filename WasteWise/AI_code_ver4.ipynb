{
 "cells": [
  {
   "cell_type": "code",
   "execution_count": 1,
   "id": "initial_id",
   "metadata": {
    "ExecuteTime": {
     "end_time": "2024-06-14T08:43:00.280373Z",
     "start_time": "2024-06-14T08:43:00.276768Z"
    },
    "collapsed": true
   },
   "outputs": [
    {
     "data": {
      "text/plain": [
       "True"
      ]
     },
     "execution_count": 1,
     "metadata": {},
     "output_type": "execute_result"
    }
   ],
   "source": [
    "from dotenv import load_dotenv\n",
    "\n",
    "# API KEY 정보로드\n",
    "load_dotenv()"
   ]
  },
  {
   "cell_type": "code",
   "execution_count": 2,
   "id": "99f69830f52919b",
   "metadata": {
    "ExecuteTime": {
     "end_time": "2024-06-14T08:43:25.999617Z",
     "start_time": "2024-06-14T08:43:25.996779Z"
    }
   },
   "outputs": [],
   "source": [
    "from langchain_openai import ChatOpenAI\n",
    "llm = ChatOpenAI(temperature=0.1,\n",
    "                 model_name='gpt-4o',\n",
    "                 )\n"
   ]
  },
  {
   "cell_type": "code",
   "execution_count": 3,
   "id": "ccb216309b745237",
   "metadata": {
    "ExecuteTime": {
     "end_time": "2024-06-14T08:44:33.081167Z",
     "start_time": "2024-06-14T08:44:33.079259Z"
    }
   },
   "outputs": [
    {
     "name": "stdout",
     "output_type": "stream",
     "text": [
      "깨진 유리병\n"
     ]
    }
   ],
   "source": [
    "# 이미지 분류\n",
    "from openai import OpenAI\n",
    "\n",
    "Image_classfy = OpenAI()\n",
    "response = Image_classfy.chat.completions.create(\n",
    "  model=\"gpt-4o\",\n",
    "  messages=[\n",
    "    {\n",
    "      \"role\": \"user\",\n",
    "      \"content\": [\n",
    "        {\"type\": \"text\", \"text\": '''\n",
    "         너는 사진을 보면 그 물체가 어떤 재활용품인지 알 수 있는 대한민국의 분리배출 전문가야. 나는 물체가 어떤 재활용품인지 잘 몰라서 분리배출을 잘 못하는 일반인이야. 너의 답변을 통해 일반인이 올바른 분리배출을 할 수 있도록 정확한 답변을 해줘.\n",
    "소개나 인사말 등 답변과 관계 없는 말은 하지 마.\n",
    "이 사진속 물체가 무엇인지, 상태는 어떤지 확인해서 반드시 목록 중 하나로 선택해서 대답해줘.\n",
    "###\n",
    "물체 목록 : 더러운 플라스틱, 깨끗한 플라스틱, 더러운 스티로폼, 깨끗한 스티로폼, 더러운 유색 페트병, 깨끗한 유색 페트병, 더러운 유리병, 깨진 유리병, 종이, 깨끗한 비닐, 더러운 비닐, 금속캔, 깨끗한 투명 페트병, 더러운 투명 페트병\n",
    "###\n",
    "\n",
    "인식한 물체와 비슷한 항목이 물체 목록에 없는 경우에는 반드시 예외 답변 예시에 맞게 답변해줘.\n",
    "### \n",
    "예외 답변 양식: '인식한 물체명' 재활용불가\n",
    "###\n",
    "         \n",
    "         '''},\n",
    "        {\n",
    "          \"type\": \"image_url\",\n",
    "          \"image_url\": {\n",
    "            \"url\": \"https://i.imgur.com/pokscbm.png\",\n",
    "          },\n",
    "        },\n",
    "      ],\n",
    "    }\n",
    "  ],\n",
    "  max_tokens=1000,\n",
    ")\n",
    "print(response.choices[0].message.content)\n",
    "\n",
    "인식결과 = response.choices[0].message.content"
   ]
  },
  {
   "cell_type": "code",
   "execution_count": 4,
   "id": "e8748403",
   "metadata": {},
   "outputs": [],
   "source": [
    "# 지역별 분리배출 안내페이지 (서울시 강남구 등은 현재 pdf 읽어오기가 안되어 보류)\n",
    "loc_doc = {'서울시 강동구': ('https://www.gangdong.go.kr/web/newportal/contents/gdp_005_004_010_001', 'https://www.gangdong.go.kr/web/newportal/contents/gdp_005_004_010_003_001', 'https://www.gangdong.go.kr/web/newportal/contents/gdp_005_004_010_004_001', 'https://www.gangdong.go.kr/web/newportal/contents/gdp_005_004_010_004_002', 'https://www.gangdong.go.kr/web/newportal/contents/gdp_005_004_010_004_003'), '서울시 송파구': ('https://www.songpa.go.kr/www/contents.do?key=3153', 'https://www.songpa.go.kr/www/contents.do?key=3157&', 'https://www.songpa.go.kr/www/contents.do?key=3161&', 'https://www.songpa.go.kr/www/contents.do?key=2117&', 'https://www.songpa.go.kr/www/contents.do?key=3164&', 'https://www.songpa.go.kr/www/contents.do?key=3171&'), '서울시 강서구': ('https://www.gangseo.seoul.kr/env/env010101', 'https://www.gangseo.seoul.kr/env/env010202', 'https://www.gangseo.seoul.kr/env/env010203', 'https://www.gangseo.seoul.kr/env/env010401')}"
   ]
  },
  {
   "cell_type": "code",
   "execution_count": 16,
   "id": "1956f7cd94d4b050",
   "metadata": {
    "ExecuteTime": {
     "end_time": "2024-06-14T08:50:31.007285Z",
     "start_time": "2024-06-14T08:50:30.953088Z"
    }
   },
   "outputs": [
    {
     "name": "stdout",
     "output_type": "stream",
     "text": [
      "('https://www.gangdong.go.kr/web/newportal/contents/gdp_005_004_010_001', 'https://www.gangdong.go.kr/web/newportal/contents/gdp_005_004_010_003_001', 'https://www.gangdong.go.kr/web/newportal/contents/gdp_005_004_010_004_001', 'https://www.gangdong.go.kr/web/newportal/contents/gdp_005_004_010_004_002', 'https://www.gangdong.go.kr/web/newportal/contents/gdp_005_004_010_004_003')\n"
     ]
    }
   ],
   "source": [
    "# RAG\n",
    "# 지역별 분리배출 안내 페이지 중 사용자가 선택한 지역의 페이지를 로드\n",
    "\n",
    "from langchain.document_loaders import WebBaseLoader\n",
    "\n",
    "loc = '서울시 강동구'\n",
    "data = ''\n",
    "\n",
    "if loc in loc_doc.keys():\n",
    "    print(loc_doc[loc])\n",
    "    loader = WebBaseLoader(loc_doc[loc])\n",
    "    data = loader.load()\n",
    "    data\n",
    "else:\n",
    "    pass"
   ]
  },
  {
   "cell_type": "code",
   "execution_count": 17,
   "id": "830f3d1b2b56158b",
   "metadata": {
    "ExecuteTime": {
     "end_time": "2024-06-14T08:54:39.555279Z",
     "start_time": "2024-06-14T08:54:39.552791Z"
    }
   },
   "outputs": [],
   "source": [
    "# 페이지 내부 내용(Text)를 사이즈에 맞게 스플릿 후 저장\n",
    "\n",
    "from langchain.text_splitter import RecursiveCharacterTextSplitter\n",
    "\n",
    "text_splitter = RecursiveCharacterTextSplitter(chunk_size=250, chunk_overlap=50)\n",
    "texts = text_splitter.split_documents(data)\n"
   ]
  },
  {
   "cell_type": "code",
   "execution_count": 18,
   "id": "5cfc96f8f5496e6c",
   "metadata": {
    "ExecuteTime": {
     "end_time": "2024-06-14T08:55:36.998810Z",
     "start_time": "2024-06-14T08:55:33.297650Z"
    }
   },
   "outputs": [],
   "source": [
    "# 페이지 내부 내용을 벡터스토어에 저장\n",
    "\n",
    "\n",
    "import tiktoken\n",
    "from langchain.vectorstores import Chroma\n",
    "from langchain.embeddings import OpenAIEmbeddings\n",
    "\n",
    "persist_directory = f\"./storage/{loc}\"\n",
    "embeddings = OpenAIEmbeddings()\n",
    "vectordb = Chroma.from_documents(documents=texts,\n",
    "                                 embedding=embeddings,\n",
    "                                 persist_directory=persist_directory)\n",
    "vectordb.persist()\n"
   ]
  },
  {
   "cell_type": "code",
   "execution_count": 19,
   "id": "d13814955cbc5ddc",
   "metadata": {
    "ExecuteTime": {
     "end_time": "2024-06-14T08:55:41.123738Z",
     "start_time": "2024-06-14T08:55:40.860711Z"
    }
   },
   "outputs": [],
   "source": [
    "# 벡터스토어 내용을 검색에 활용\n",
    "\n",
    "from langchain.chat_models import ChatOpenAI\n",
    "from langchain.chains import RetrievalQA\n",
    "\n",
    "retriever = vectordb.as_retriever()\n",
    "llm = ChatOpenAI(temperature=0.1,\n",
    "                 max_tokens=2048,\n",
    "                 model_name='gpt-4o',\n",
    "                 )\n",
    "qa = RetrievalQA.from_chain_type(llm=llm, chain_type=\"stuff\", retriever=retriever)\n"
   ]
  },
  {
   "cell_type": "code",
   "execution_count": 20,
   "id": "33d33ac1",
   "metadata": {},
   "outputs": [
    {
     "name": "stdout",
     "output_type": "stream",
     "text": [
      "안녕하세요.\n",
      "작은 실천을 통해 환경을 지키는 WasteWise입니다.\n",
      "\n",
      "오늘의 분리배출 지역은 서울시 강동구이시군요.\n",
      "\n",
      "해당 제품은 깨진 유리병이네요! 배출 방법을 안내해드릴게요.\n",
      "\n",
      "깨진 유리병은\n",
      "- 깨진 유리병은 재활용이 불가능하므로 일반종량제봉투에 담아 배출해주세요.\n",
      "- 유리병 조각이 날카로워 다칠 수 있으니 두꺼운 종이나 신문지로 감싸서 안전하게 처리해주세요.\n",
      "- 유독성 물질이나 불에 타지 않는 재질이므로 특수종량제봉투(pp마대)를 사용해도 됩니다.\n"
     ]
    }
   ],
   "source": [
    "if \"재활용불가\" in 인식결과:\n",
    "    print(f\"해당 제품은 {인식결과[:인식결과.find(\" \")]}이네요! 재활용이 불가합니다. 일반쓰레기로 불출해주세요.\")  # 이미지 분류에서 재활용 불가로 나오는 경우 처리\n",
    "else:\n",
    "    query = f'''\n",
    "    ###Prompt 너는 대한민국의 분리배출 전문가야. 나는 분리배출 방법을 잘 모르는 일반인이야. 일반인이 분리배출을 올바르게 할 수 있도록 답변을 작성해줘. 소개나 인사말, 끝인사 등 답변과 관계 없는 말은 절대로 하지 마.\n",
    "    # {loc}에서 {인식결과} 분리배출 방법을 설명해줘. 반드시 답변 양식에 맞게 답해주고, 내용은 물품명과 분리배출 방법에 따라 수정해서 작성해줘. \n",
    "\n",
    "    ###\n",
    "    답변 양식\n",
    "    안녕하세요.\n",
    "    작은 실천을 통해 환경을 지키는 WasteWise입니다.\n",
    "    \n",
    "    오늘의 분리배출 지역은 {loc}이시군요.\n",
    "\n",
    "    해당 제품은 {인식결과}이네요! + 배출 방법을 안내해드릴게요.\n",
    "\n",
    "    {인식결과.split()[-1]}은\n",
    "    - 스티로폼에 붙어있는 음식물 찌꺼기나 이물질을 깨끗이 제거해주세요.\n",
    "    - 스티로폼을 다른 재활용품과 섞이지 않도록 분리하여 배출해주세요.\n",
    "    - 스티로폼을 가능한 한 작게 부수어 부피를 줄여주세요.\n",
    "    ###\n",
    "    '''\n",
    "    try:\n",
    "        llm_response = qa(query)\n",
    "        print(llm_response[\"result\"])\n",
    "        \n",
    "        \n",
    "    except Exception as err:\n",
    "        print('Exception occurred. Please try again', str(err))\n"
   ]
  }
 ],
 "metadata": {
  "kernelspec": {
   "display_name": "Python 3",
   "language": "python",
   "name": "python3"
  },
  "language_info": {
   "codemirror_mode": {
    "name": "ipython",
    "version": 3
   },
   "file_extension": ".py",
   "mimetype": "text/x-python",
   "name": "python",
   "nbconvert_exporter": "python",
   "pygments_lexer": "ipython3",
   "version": "3.12.3"
  }
 },
 "nbformat": 4,
 "nbformat_minor": 5
}
